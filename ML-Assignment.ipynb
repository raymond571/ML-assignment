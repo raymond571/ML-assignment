{
 "cells": [
  {
   "cell_type": "markdown",
   "id": "96bcdbb3",
   "metadata": {},
   "source": [
    "# <center>MACHINE LEARNING ASSIGMENT </center>\n",
    "##### <center>STUDENT NAME : ARUL RAYMONDS GEORGE JOSEPH</center>\n",
    "##### <center>STUDENT ID: C00278718</center>"
   ]
  },
  {
   "cell_type": "markdown",
   "id": "c09fd080",
   "metadata": {},
   "source": [
    "## Table of Contents:\n",
    "1. [Introduction](#first-bullet)\n",
    "2. [Businiess Understanding](#second-bullet)\n",
    "3. [Data Understanding](#third-bullet)\n",
    "4. [Data Preparation](#fourth-bullet)\n",
    "5. [Modelling](#fifth-bullet)\n",
    "6. [Evaluation](#sixth-bullet)\n",
    "7. [Deployments](#seventh-bullet)\n",
    "8. [Discussion](#eighth-bullet)\n",
    "9. [Results](#nineth-bullet)\n",
    "10. [References](#tenth-bullet)\n"
   ]
  },
  {
   "cell_type": "markdown",
   "id": "d6d21f00",
   "metadata": {},
   "source": [
    "## 1. Introduction <a class=\"anchor\" id=\"first-bullet\"></a>\n",
    "\n",
    "code blocks..."
   ]
  },
  {
   "cell_type": "markdown",
   "id": "61555e21",
   "metadata": {},
   "source": [
    "## 2. Business Understanding <a class=\"anchor\" id=\"second-bullet\"></a>\n",
    "\n",
    "code blocks..."
   ]
  },
  {
   "cell_type": "markdown",
   "id": "b792fe75",
   "metadata": {},
   "source": [
    "## 3. Data understanding <a class=\"anchor\" id=\"third-bullet\"></a>\n",
    "\n",
    "code blocks..."
   ]
  },
  {
   "cell_type": "markdown",
   "id": "0fda8984",
   "metadata": {},
   "source": [
    "## 4. Data Preparation <a class=\"anchor\" id=\"fourth-bullet\"></a>\n",
    "\n",
    "code blocks...`"
   ]
  },
  {
   "cell_type": "markdown",
   "id": "59a5251d",
   "metadata": {},
   "source": [
    "## 5. Modelling <a class=\"anchor\" id=\"fifth-bullet\"></a>\n",
    "\n",
    "code blocks..."
   ]
  },
  {
   "cell_type": "code",
   "execution_count": 1,
   "id": "2db2a741",
   "metadata": {},
   "outputs": [
    {
     "name": "stdout",
     "output_type": "stream",
     "text": [
      "GPU is available\n"
     ]
    }
   ],
   "source": [
    "\n",
    "import tensorflow as tf\n",
    "import pandas as pd\n",
    "import numpy as np\n",
    "import itertools\n",
    "\n",
    "print(\"GPU is\", \"available\" if tf.config.list_physical_devices('GPU') else \"NOT AVAILABLE\")\n"
   ]
  },
  {
   "cell_type": "code",
   "execution_count": 2,
   "id": "c5fadc57",
   "metadata": {},
   "outputs": [
    {
     "data": {
      "text/html": [
       "<div>\n",
       "<style scoped>\n",
       "    .dataframe tbody tr th:only-of-type {\n",
       "        vertical-align: middle;\n",
       "    }\n",
       "\n",
       "    .dataframe tbody tr th {\n",
       "        vertical-align: top;\n",
       "    }\n",
       "\n",
       "    .dataframe thead th {\n",
       "        text-align: right;\n",
       "    }\n",
       "</style>\n",
       "<table border=\"1\" class=\"dataframe\">\n",
       "  <thead>\n",
       "    <tr style=\"text-align: right;\">\n",
       "      <th></th>\n",
       "      <th>mmsi</th>\n",
       "      <th>timestamp</th>\n",
       "      <th>distance_from_shore</th>\n",
       "      <th>distance_from_port</th>\n",
       "      <th>speed</th>\n",
       "      <th>course</th>\n",
       "      <th>lat</th>\n",
       "      <th>lon</th>\n",
       "      <th>is_fishing</th>\n",
       "      <th>source</th>\n",
       "    </tr>\n",
       "  </thead>\n",
       "  <tbody>\n",
       "    <tr>\n",
       "      <th>0</th>\n",
       "      <td>1.252340e+12</td>\n",
       "      <td>1.325376e+09</td>\n",
       "      <td>0.0</td>\n",
       "      <td>0.0</td>\n",
       "      <td>0.0</td>\n",
       "      <td>153.0</td>\n",
       "      <td>52.458649</td>\n",
       "      <td>4.581200</td>\n",
       "      <td>-1.0</td>\n",
       "      <td>gfw</td>\n",
       "    </tr>\n",
       "    <tr>\n",
       "      <th>1</th>\n",
       "      <td>1.252340e+12</td>\n",
       "      <td>1.325378e+09</td>\n",
       "      <td>0.0</td>\n",
       "      <td>0.0</td>\n",
       "      <td>0.0</td>\n",
       "      <td>153.0</td>\n",
       "      <td>52.458668</td>\n",
       "      <td>4.581167</td>\n",
       "      <td>-1.0</td>\n",
       "      <td>gfw</td>\n",
       "    </tr>\n",
       "    <tr>\n",
       "      <th>2</th>\n",
       "      <td>1.252340e+12</td>\n",
       "      <td>1.325379e+09</td>\n",
       "      <td>0.0</td>\n",
       "      <td>0.0</td>\n",
       "      <td>0.0</td>\n",
       "      <td>153.0</td>\n",
       "      <td>52.458633</td>\n",
       "      <td>4.581183</td>\n",
       "      <td>-1.0</td>\n",
       "      <td>gfw</td>\n",
       "    </tr>\n",
       "    <tr>\n",
       "      <th>3</th>\n",
       "      <td>1.252340e+12</td>\n",
       "      <td>1.325380e+09</td>\n",
       "      <td>0.0</td>\n",
       "      <td>0.0</td>\n",
       "      <td>0.0</td>\n",
       "      <td>153.0</td>\n",
       "      <td>52.458649</td>\n",
       "      <td>4.581234</td>\n",
       "      <td>-1.0</td>\n",
       "      <td>gfw</td>\n",
       "    </tr>\n",
       "    <tr>\n",
       "      <th>4</th>\n",
       "      <td>1.252340e+12</td>\n",
       "      <td>1.325381e+09</td>\n",
       "      <td>0.0</td>\n",
       "      <td>0.0</td>\n",
       "      <td>0.0</td>\n",
       "      <td>153.0</td>\n",
       "      <td>52.458649</td>\n",
       "      <td>4.581183</td>\n",
       "      <td>-1.0</td>\n",
       "      <td>gfw</td>\n",
       "    </tr>\n",
       "  </tbody>\n",
       "</table>\n",
       "</div>"
      ],
      "text/plain": [
       "           mmsi     timestamp  distance_from_shore  distance_from_port  speed  \\\n",
       "0  1.252340e+12  1.325376e+09                  0.0                 0.0    0.0   \n",
       "1  1.252340e+12  1.325378e+09                  0.0                 0.0    0.0   \n",
       "2  1.252340e+12  1.325379e+09                  0.0                 0.0    0.0   \n",
       "3  1.252340e+12  1.325380e+09                  0.0                 0.0    0.0   \n",
       "4  1.252340e+12  1.325381e+09                  0.0                 0.0    0.0   \n",
       "\n",
       "   course        lat       lon  is_fishing source  \n",
       "0   153.0  52.458649  4.581200        -1.0    gfw  \n",
       "1   153.0  52.458668  4.581167        -1.0    gfw  \n",
       "2   153.0  52.458633  4.581183        -1.0    gfw  \n",
       "3   153.0  52.458649  4.581234        -1.0    gfw  \n",
       "4   153.0  52.458649  4.581183        -1.0    gfw  "
      ]
     },
     "execution_count": 2,
     "metadata": {},
     "output_type": "execute_result"
    }
   ],
   "source": [
    "datapath = \"data/0dab1200-c004-11ec-8a45-f167084fd93d/\"\n",
    "purse_seines = \"purse_seines.csv\"\n",
    "unknown = \"unknown.csv\"\n",
    "trollers = \"trollers.csv\"\n",
    "trawlers = \"trawlers.csv\"\n",
    "pole_and_line = \"pole_and_line.csv\"\n",
    "fixed_gear = \"fixed_gear.csv\"\n",
    "drifting_longlines = \"drifting_longlines.csv\"\n",
    "\n",
    "df = pd.read_csv(datapath+trawlers)\n",
    "df.head()"
   ]
  },
  {
   "cell_type": "code",
   "execution_count": 5,
   "id": "6d61270c",
   "metadata": {},
   "outputs": [
    {
     "data": {
      "text/plain": [
       "array([-1.        ,  0.        ,  1.        ,  0.6666667 ,  0.33333334,\n",
       "        0.75      ,  0.25      ])"
      ]
     },
     "execution_count": 5,
     "metadata": {},
     "output_type": "execute_result"
    }
   ],
   "source": [
    "df[\"is_fishing\"].unique()"
   ]
  },
  {
   "cell_type": "code",
   "execution_count": 6,
   "id": "f18bd96d",
   "metadata": {},
   "outputs": [
    {
     "name": "stdout",
     "output_type": "stream",
     "text": [
      "<class 'pandas.core.frame.DataFrame'>\n",
      "RangeIndex: 4369101 entries, 0 to 4369100\n",
      "Data columns (total 10 columns):\n",
      " #   Column               Dtype  \n",
      "---  ------               -----  \n",
      " 0   mmsi                 float64\n",
      " 1   timestamp            float64\n",
      " 2   distance_from_shore  float64\n",
      " 3   distance_from_port   float64\n",
      " 4   speed                float64\n",
      " 5   course               float64\n",
      " 6   lat                  float64\n",
      " 7   lon                  float64\n",
      " 8   is_fishing           float64\n",
      " 9   source               object \n",
      "dtypes: float64(9), object(1)\n",
      "memory usage: 333.3+ MB\n"
     ]
    }
   ],
   "source": [
    "df.info()"
   ]
  },
  {
   "cell_type": "code",
   "execution_count": 7,
   "id": "93e76a58",
   "metadata": {},
   "outputs": [
    {
     "data": {
      "text/html": [
       "<div>\n",
       "<style scoped>\n",
       "    .dataframe tbody tr th:only-of-type {\n",
       "        vertical-align: middle;\n",
       "    }\n",
       "\n",
       "    .dataframe tbody tr th {\n",
       "        vertical-align: top;\n",
       "    }\n",
       "\n",
       "    .dataframe thead th {\n",
       "        text-align: right;\n",
       "    }\n",
       "</style>\n",
       "<table border=\"1\" class=\"dataframe\">\n",
       "  <thead>\n",
       "    <tr style=\"text-align: right;\">\n",
       "      <th></th>\n",
       "      <th>mmsi</th>\n",
       "      <th>timestamp</th>\n",
       "      <th>distance_from_shore</th>\n",
       "      <th>distance_from_port</th>\n",
       "      <th>speed</th>\n",
       "      <th>course</th>\n",
       "      <th>lat</th>\n",
       "      <th>lon</th>\n",
       "      <th>is_fishing</th>\n",
       "    </tr>\n",
       "  </thead>\n",
       "  <tbody>\n",
       "    <tr>\n",
       "      <th>count</th>\n",
       "      <td>4369101.00000</td>\n",
       "      <td>4369101.00000</td>\n",
       "      <td>4369101.00000</td>\n",
       "      <td>4369101.00000</td>\n",
       "      <td>4369023.00000</td>\n",
       "      <td>4369023.00000</td>\n",
       "      <td>4369101.00000</td>\n",
       "      <td>4369101.00000</td>\n",
       "      <td>4369101.00000</td>\n",
       "    </tr>\n",
       "    <tr>\n",
       "      <th>mean</th>\n",
       "      <td>157895239544453.53125</td>\n",
       "      <td>1426219858.15639</td>\n",
       "      <td>78198.02489</td>\n",
       "      <td>149664.80424</td>\n",
       "      <td>2.97240</td>\n",
       "      <td>174.40434</td>\n",
       "      <td>32.66757</td>\n",
       "      <td>4.92777</td>\n",
       "      <td>-0.94491</td>\n",
       "    </tr>\n",
       "    <tr>\n",
       "      <th>std</th>\n",
       "      <td>94947789560500.62500</td>\n",
       "      <td>38764722.50157</td>\n",
       "      <td>204074.69896</td>\n",
       "      <td>327953.23712</td>\n",
       "      <td>4.10508</td>\n",
       "      <td>115.47010</td>\n",
       "      <td>38.37240</td>\n",
       "      <td>81.27552</td>\n",
       "      <td>0.28445</td>\n",
       "    </tr>\n",
       "    <tr>\n",
       "      <th>min</th>\n",
       "      <td>1252339803566.00000</td>\n",
       "      <td>1325376038.00000</td>\n",
       "      <td>0.00000</td>\n",
       "      <td>0.00000</td>\n",
       "      <td>0.00000</td>\n",
       "      <td>0.00000</td>\n",
       "      <td>-84.98024</td>\n",
       "      <td>-179.99963</td>\n",
       "      <td>-1.00000</td>\n",
       "    </tr>\n",
       "    <tr>\n",
       "      <th>25%</th>\n",
       "      <td>77261928739173.00000</td>\n",
       "      <td>1397205111.00000</td>\n",
       "      <td>0.00000</td>\n",
       "      <td>2236.01318</td>\n",
       "      <td>0.00000</td>\n",
       "      <td>64.80000</td>\n",
       "      <td>36.23107</td>\n",
       "      <td>-8.28853</td>\n",
       "      <td>-1.00000</td>\n",
       "    </tr>\n",
       "    <tr>\n",
       "      <th>50%</th>\n",
       "      <td>175387414441613.00000</td>\n",
       "      <td>1434811196.00000</td>\n",
       "      <td>4242.53662</td>\n",
       "      <td>36054.62500</td>\n",
       "      <td>1.50000</td>\n",
       "      <td>187.00000</td>\n",
       "      <td>52.09994</td>\n",
       "      <td>4.58442</td>\n",
       "      <td>-1.00000</td>\n",
       "    </tr>\n",
       "    <tr>\n",
       "      <th>75%</th>\n",
       "      <td>240226012373593.00000</td>\n",
       "      <td>1458922432.00000</td>\n",
       "      <td>55783.93359</td>\n",
       "      <td>96080.93750</td>\n",
       "      <td>4.50000</td>\n",
       "      <td>276.00000</td>\n",
       "      <td>54.63578</td>\n",
       "      <td>14.32063</td>\n",
       "      <td>-1.00000</td>\n",
       "    </tr>\n",
       "    <tr>\n",
       "      <th>max</th>\n",
       "      <td>277515277585463.00000</td>\n",
       "      <td>1480031962.00000</td>\n",
       "      <td>3257453.25000</td>\n",
       "      <td>12452204.00000</td>\n",
       "      <td>102.30000</td>\n",
       "      <td>511.00000</td>\n",
       "      <td>84.61642</td>\n",
       "      <td>179.99338</td>\n",
       "      <td>1.00000</td>\n",
       "    </tr>\n",
       "  </tbody>\n",
       "</table>\n",
       "</div>"
      ],
      "text/plain": [
       "                        mmsi         timestamp distance_from_shore  \\\n",
       "count          4369101.00000     4369101.00000       4369101.00000   \n",
       "mean   157895239544453.53125  1426219858.15639         78198.02489   \n",
       "std     94947789560500.62500    38764722.50157        204074.69896   \n",
       "min      1252339803566.00000  1325376038.00000             0.00000   \n",
       "25%     77261928739173.00000  1397205111.00000             0.00000   \n",
       "50%    175387414441613.00000  1434811196.00000          4242.53662   \n",
       "75%    240226012373593.00000  1458922432.00000         55783.93359   \n",
       "max    277515277585463.00000  1480031962.00000       3257453.25000   \n",
       "\n",
       "      distance_from_port          speed         course            lat  \\\n",
       "count      4369101.00000  4369023.00000  4369023.00000  4369101.00000   \n",
       "mean        149664.80424        2.97240      174.40434       32.66757   \n",
       "std         327953.23712        4.10508      115.47010       38.37240   \n",
       "min              0.00000        0.00000        0.00000      -84.98024   \n",
       "25%           2236.01318        0.00000       64.80000       36.23107   \n",
       "50%          36054.62500        1.50000      187.00000       52.09994   \n",
       "75%          96080.93750        4.50000      276.00000       54.63578   \n",
       "max       12452204.00000      102.30000      511.00000       84.61642   \n",
       "\n",
       "                 lon     is_fishing  \n",
       "count  4369101.00000  4369101.00000  \n",
       "mean         4.92777       -0.94491  \n",
       "std         81.27552        0.28445  \n",
       "min       -179.99963       -1.00000  \n",
       "25%         -8.28853       -1.00000  \n",
       "50%          4.58442       -1.00000  \n",
       "75%         14.32063       -1.00000  \n",
       "max        179.99338        1.00000  "
      ]
     },
     "execution_count": 7,
     "metadata": {},
     "output_type": "execute_result"
    }
   ],
   "source": [
    "df.describe().apply(lambda s: s.apply('{0:.5f}'.format))"
   ]
  },
  {
   "cell_type": "code",
   "execution_count": null,
   "id": "ca698f43",
   "metadata": {},
   "outputs": [],
   "source": [
    "import seaborn as sns\n",
    "import matplotlib.pyplot as plt\n",
    "plt.rcParams['figure.figsize'] = [6, 2]\n",
    "\n",
    "for column in df.columns:\n",
    "    plt.figure()             # <==================== here!\n",
    "    sns.displot(df[column])"
   ]
  },
  {
   "cell_type": "code",
   "execution_count": null,
   "id": "534526ed",
   "metadata": {},
   "outputs": [],
   "source": [
    "df.size"
   ]
  },
  {
   "cell_type": "code",
   "execution_count": null,
   "id": "ae259c4c",
   "metadata": {},
   "outputs": [],
   "source": [
    "import plotly.express as px\n",
    "\n",
    "\n",
    "\n",
    "fig = px.scatter_geo(df[df.is_fishing==0][:100000000:100],lat='lat',lon='lon', hover_name=\"is_fishing\")\n",
    "fig.update_layout(title = 'World map', title_x=0.5)\n",
    "fig.show()"
   ]
  },
  {
   "cell_type": "markdown",
   "id": "9a0f2fcd",
   "metadata": {},
   "source": [
    "## 6. Evaluation <a class=\"anchor\" id=\"sixth-bullet\"></a>\n",
    "\n",
    "code blocks..."
   ]
  },
  {
   "cell_type": "markdown",
   "id": "4f0f2416",
   "metadata": {},
   "source": [
    "## 7. Deployments <a class=\"anchor\" id=\"seventh-bullet\"></a>\n",
    "\n",
    "code blocks..."
   ]
  },
  {
   "cell_type": "markdown",
   "id": "a961eda6",
   "metadata": {},
   "source": [
    "## 8. Discussion <a class=\"anchor\" id=\"eighth-bullet\"></a>\n",
    "\n",
    "code blocks..."
   ]
  },
  {
   "cell_type": "markdown",
   "id": "b8908dbc",
   "metadata": {},
   "source": [
    "## 9. Result <a class=\"anchor\" id=\"nineth-bullet\"></a>\n",
    "\n",
    "code blocks..."
   ]
  },
  {
   "cell_type": "markdown",
   "id": "84059322",
   "metadata": {},
   "source": [
    "## 9. References <a class=\"anchor\" id=\"tenth-bullet\"></a>\n",
    "\n",
    "code blocks..."
   ]
  },
  {
   "cell_type": "code",
   "execution_count": null,
   "id": "ba80014a",
   "metadata": {},
   "outputs": [],
   "source": []
  }
 ],
 "metadata": {
  "kernelspec": {
   "display_name": "Python 3 (ipykernel)",
   "language": "python",
   "name": "python3"
  },
  "language_info": {
   "codemirror_mode": {
    "name": "ipython",
    "version": 3
   },
   "file_extension": ".py",
   "mimetype": "text/x-python",
   "name": "python",
   "nbconvert_exporter": "python",
   "pygments_lexer": "ipython3",
   "version": "3.9.7"
  }
 },
 "nbformat": 4,
 "nbformat_minor": 5
}
