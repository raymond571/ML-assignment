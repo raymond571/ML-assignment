{
 "cells": [
  {
   "cell_type": "markdown",
   "id": "b3c89593",
   "metadata": {},
   "source": [
    "# <center>MACHINE LEARNING ASSIGMENT </center>\n",
    "##### <center>STUDENT NAME : ARUL RAYMONDS GEORGE JOSEPH</center>\n",
    "##### <center>STUDENT ID: C00278718</center>"
   ]
  },
  {
   "cell_type": "markdown",
   "id": "6d1319f0",
   "metadata": {},
   "source": [
    "## Table of Contents:\n",
    "1. [Introduction](#first-bullet)\n",
    "2. [Businiess Understanding](#second-bullet)\n",
    "3. [Data Understanding](#third-bullet)\n",
    "4. [Data Preparation](#fourth-bullet)\n",
    "5. [Modelling](#fifth-bullet)\n",
    "6. [Evaluation](#sixth-bullet)\n",
    "7. [Deployments](#seventh-bullet)\n",
    "8. [Discussion](#eighth-bullet)\n",
    "9. [Results](#nineth-bullet)\n",
    "10. [References](#tenth-bullet)\n"
   ]
  },
  {
   "cell_type": "markdown",
   "id": "41a81140",
   "metadata": {},
   "source": [
    "## 1. Introduction <a class=\"anchor\" id=\"first-bullet\"></a>\n",
    "\n",
    "code blocks..."
   ]
  },
  {
   "cell_type": "markdown",
   "id": "84c9036e",
   "metadata": {},
   "source": [
    "## 2. Business Understanding <a class=\"anchor\" id=\"second-bullet\"></a>\n",
    "\n",
    "code blocks..."
   ]
  },
  {
   "cell_type": "markdown",
   "id": "e7469b28",
   "metadata": {},
   "source": [
    "## 3. Data understanding <a class=\"anchor\" id=\"third-bullet\"></a>\n",
    "\n",
    "code blocks..."
   ]
  },
  {
   "cell_type": "markdown",
   "id": "4fd1c28e",
   "metadata": {},
   "source": [
    "## 4. Data Preparation <a class=\"anchor\" id=\"fourth-bullet\"></a>\n",
    "\n",
    "code blocks...`"
   ]
  },
  {
   "cell_type": "markdown",
   "id": "0153dabc",
   "metadata": {},
   "source": [
    "## 5. Modelling <a class=\"anchor\" id=\"fifth-bullet\"></a>\n",
    "\n",
    "code blocks..."
   ]
  },
  {
   "cell_type": "markdown",
   "id": "6bc92c21",
   "metadata": {},
   "source": [
    "## 6. Evaluation <a class=\"anchor\" id=\"sixth-bullet\"></a>\n",
    "\n",
    "code blocks..."
   ]
  },
  {
   "cell_type": "markdown",
   "id": "c143e59d",
   "metadata": {},
   "source": [
    "## 7. Deployments <a class=\"anchor\" id=\"seventh-bullet\"></a>\n",
    "\n",
    "code blocks..."
   ]
  },
  {
   "cell_type": "markdown",
   "id": "515777b9",
   "metadata": {},
   "source": [
    "## 8. Discussion <a class=\"anchor\" id=\"eighth-bullet\"></a>\n",
    "\n",
    "code blocks..."
   ]
  },
  {
   "cell_type": "markdown",
   "id": "af6ed3a8",
   "metadata": {},
   "source": [
    "## 9. Result <a class=\"anchor\" id=\"nineth-bullet\"></a>\n",
    "\n",
    "code blocks..."
   ]
  },
  {
   "cell_type": "markdown",
   "id": "0dc64af4",
   "metadata": {},
   "source": [
    "## 9. References <a class=\"anchor\" id=\"tenth-bullet\"></a>\n",
    "\n",
    "code blocks..."
   ]
  },
  {
   "cell_type": "code",
   "execution_count": null,
   "id": "b364d8d3",
   "metadata": {},
   "outputs": [],
   "source": []
  }
 ],
 "metadata": {
  "kernelspec": {
   "display_name": "Python 3 (ipykernel)",
   "language": "python",
   "name": "python3"
  },
  "language_info": {
   "codemirror_mode": {
    "name": "ipython",
    "version": 3
   },
   "file_extension": ".py",
   "mimetype": "text/x-python",
   "name": "python",
   "nbconvert_exporter": "python",
   "pygments_lexer": "ipython3",
   "version": "3.9.7"
  }
 },
 "nbformat": 4,
 "nbformat_minor": 5
}
